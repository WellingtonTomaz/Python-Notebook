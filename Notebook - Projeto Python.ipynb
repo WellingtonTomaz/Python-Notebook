{
 "cells": [
  {
   "cell_type": "markdown",
   "metadata": {},
   "source": [
    "#PROJETO PYTHON\n"
   ]
  },
  {
   "cell_type": "markdown",
   "metadata": {},
   "source": [
    "1° Projeto, no projeto a seguir foi criado um programa para ler dois números e, em seguida, perguntar à pessoa usuária qual operação ele deseja realizar. O resultado da operação inclui informações sobre o número - se é par ou ímpar, positivo ou negativo e inteiro ou decimal."
   ]
  },
  {
   "cell_type": "code",
   "execution_count": 5,
   "metadata": {},
   "outputs": [
    {
     "name": "stdout",
     "output_type": "stream",
     "text": [
      "O número é inteiro.\n",
      "O número é positivo.\n",
      "O número é par.\n"
     ]
    }
   ],
   "source": [
    "num1 = float(input('Digite o primeiro numero: '))\n",
    "num2 = float(input('Digite o segundo numero: '))\n",
    "\n",
    "operacao = input('Informe a operação desejada (+, -, *, /): ')\n",
    "\n",
    "if operacao == '+':\n",
    "    resultado = num1 + num2\n",
    "elif operacao == '-':\n",
    "    resultado = num1 - num2\n",
    "elif operacao == '*':\n",
    "    resultado = num1 * num2\n",
    "elif operacao == '/':\n",
    "    if num2 != 0:\n",
    "        resultado = num1 / num2\n",
    "    else:\n",
    "        print('Erro: Divisão por zero não é permitida.')\n",
    "        resultado = None\n",
    "else:\n",
    "    print('Operação inválida, o resultado será zero.')\n",
    "    resultado = 0\n",
    "\n",
    "if resultado is not None:\n",
    "    if resultado % 1 == 0:\n",
    "        print('O número é inteiro.')\n",
    "    else:\n",
    "        print('O número é decimal.')\n",
    "\n",
    "    if resultado > 0:\n",
    "        print('O número é positivo.')\n",
    "    elif resultado < 0:\n",
    "        print('O número é negativo.')\n",
    "    else:\n",
    "        print('O número é zero.')\n",
    "\n",
    "    if resultado % 2 == 0:\n",
    "        print('O número é par.')\n",
    "    else:\n",
    "        print('O número é ímpar.')\n"
   ]
  },
  {
   "cell_type": "markdown",
   "metadata": {},
   "source": [
    "2° Projeto, o projeto a seguir analisa os dados de vendas anuais para ajudar a diretoria na tomada de decisão. O código coleta os dados de quantidade de venda durante os anos de 2022 e 2023 e faz um cálculo de variação percentual. A partir do valor da variação, é enviada às seguintes sugestões:\n",
    "\n",
    "* Para variação acima de 20%: bonificação para o time de vendas.\n",
    "* Para variação entre 2% e 20%: pequena bonificação para time de vendas.\n",
    "* Para variação entre 2% e -10%: planejamento de políticas de incentivo às vendas.\n",
    "* Para bonificações abaixo de -10%: corte de gastos."
   ]
  },
  {
   "cell_type": "code",
   "execution_count": 10,
   "metadata": {},
   "outputs": [
    {
     "name": "stdout",
     "output_type": "stream",
     "text": [
      "O percentual foi de 38.23529411764706% Bonificação para o time de vendas. \n"
     ]
    }
   ],
   "source": [
    "vnd2022 = float(input('Insira o valor de venda em 2022: '))\n",
    "vnd2023 = float(input('Insira o valor da venda de 2023: '))\n",
    "\n",
    "var_per = 100* (vnd2023 - vnd2022) / (vnd2022)\n",
    "\n",
    "if var_per > 20:\n",
    "    print('Bonificação para o time de vendas. ')\n",
    "\n",
    "elif 2 <= var_per <=20:\n",
    "    print('Pequena bonificação para o time de vendas. ')\n",
    "\n",
    "elif -10 <= var_per <2:\n",
    "    print('Planejamento incentivo de vendas')\n",
    "\n",
    "else: \n",
    "    print('Corte de gastos')\n",
    "\n",
    " \n",
    "\n"
   ]
  },
  {
   "cell_type": "markdown",
   "metadata": {},
   "source": [
    "3° Projeto - Um estabelecimento está vendendo combustíveis com descontos variados. Para o etanol, se a quantidade comprada for até 15 litros, o desconto será de 2% por litro. Caso contrário, será de 4% por litro. Para o diesel, se a quantidade comprada for até 15 litros, o desconto será de 3% por litro. Caso contrário, será de 5% por litro. O preço do litro de diesel é R$ 2,00 e o preço do litro de etanol é R$ 1,70. o programa a seguir le a quantidade de litros vendidos e o tipo de combustível (E para etanol e D para diesel) e calcula o valor a ser pago pelo cliente."
   ]
  },
  {
   "cell_type": "code",
   "execution_count": 12,
   "metadata": {},
   "outputs": [
    {
     "name": "stdout",
     "output_type": "stream",
     "text": [
      "Valor a ser pago pelo cliente: R$32.64\n"
     ]
    }
   ],
   "source": [
    "qtd_litros = float(input('Informe a quantidade de litros vendidos: '))\n",
    "tipo_combustivel = input('Informe o tipo de combustível (E para etanol e D para diesel): ')\n",
    "\n",
    "if tipo_combustivel == 'E':\n",
    "    preco_litro = 1.70\n",
    "    if qtd_litros <= 15:\n",
    "        desconto = 0.02\n",
    "    else:\n",
    "        desconto = 0.04\n",
    "elif tipo_combustivel == 'D':\n",
    "    preco_litro = 2.00\n",
    "    if qtd_litros <= 15:\n",
    "        desconto = 0.03\n",
    "    else:\n",
    "        desconto = 0.05\n",
    "else:\n",
    "    print('Entradas inválidas')\n",
    "    preco_litro = 0\n",
    "    desconto = 0\n",
    "\n",
    "if preco_litro != 0:\n",
    "    valor_desconto = preco_litro * qtd_litros * desconto\n",
    "    valor_pago = preco_litro * qtd_litros - valor_desconto\n",
    "    print(f'Valor a ser pago pelo cliente: R${valor_pago:.2f}')\n"
   ]
  },
  {
   "cell_type": "markdown",
   "metadata": {},
   "source": [
    "4° Projeto - Em uma eleição para gerência em uma empresa com 20 pessoas colaboradoras, existem quatro candidatos(as). O programa a seguir calcula o(a) vencedor(a) da eleição. A votação ocorreu da seguinte maneira:\n",
    "\n",
    "Cada colaborador(a) votou em uma das quatro pessoas candidatas (que representamos pelos números 1, 2, 3 e 4).\n",
    "Também foram contabilizados os votos nulos (representados pelo número 5) e os votos em branco (representados pelo número 6).\n",
    "Ao final da votação, o programa exibe o número total de votos para cada candidato(a), os nulos e os votos em branco. Além disso, calcula e exibe a porcentagem de votos nulos em relação ao total de votos e a porcentagem de votos em branco em relação ao total de votos."
   ]
  },
  {
   "cell_type": "code",
   "execution_count": 14,
   "metadata": {},
   "outputs": [
    {
     "name": "stdout",
     "output_type": "stream",
     "text": [
      "Votos candidato 1: 4\n",
      "Votos candidato 2: 4\n",
      "Votos candidato 3: 7\n",
      "Votos candidato 4: 0\n",
      "Votos nulos: 1\n",
      "Votos em branco: 4\n",
      "Percentual de votos nulos: 5.00%\n",
      "Percentual de votos em branco: 20.00%\n"
     ]
    }
   ],
   "source": [
    "votos_candidato1 = 0\n",
    "votos_candidato2 = 0\n",
    "votos_candidato3 = 0\n",
    "votos_candidato4 = 0\n",
    "votos_nulos = 0\n",
    "votos_brancos = 0\n",
    "\n",
    "for i in range(20):\n",
    "    voto = int(input('Informe seu voto (1-4 para candidatos, 5 para nulo, 6 para em branco): '))\n",
    "    if voto == 1:\n",
    "        votos_candidato1 += 1\n",
    "    elif voto == 2:\n",
    "        votos_candidato2 += 1\n",
    "    elif voto == 3:\n",
    "        votos_candidato3 += 1\n",
    "    elif voto == 4:\n",
    "        votos_candidato4 += 1\n",
    "    elif voto == 5:\n",
    "        votos_nulos += 1\n",
    "    elif voto == 6:\n",
    "        votos_brancos += 1\n",
    "    else:\n",
    "        print(\"Voto inválido.\")\n",
    "\n",
    "total_votos = votos_candidato1 + votos_candidato2 + votos_candidato3 + votos_candidato4 + votos_nulos + votos_brancos\n",
    "\n",
    "print(f'Votos candidato 1: {votos_candidato1}')\n",
    "print(f'Votos candidato 2: {votos_candidato2}')\n",
    "print(f'Votos candidato 3: {votos_candidato3}')\n",
    "print(f'Votos candidato 4: {votos_candidato4}')\n",
    "print(f'Votos nulos: {votos_nulos}')\n",
    "print(f'Votos em branco: {votos_brancos}')\n",
    "\n",
    "if total_votos > 0:\n",
    "    percentual_nulos = (votos_nulos / total_votos) * 100\n",
    "    percentual_brancos = (votos_brancos / total_votos) * 100\n",
    "else:\n",
    "    percentual_nulos = percentual_brancos = 0\n",
    "\n",
    "print(f'Percentual de votos nulos: {percentual_nulos:.2f}%')\n",
    "print(f'Percentual de votos em branco: {percentual_brancos:.2f}%')\n"
   ]
  },
  {
   "cell_type": "markdown",
   "metadata": {},
   "source": [
    " 5° Projeto  - O programa a seguir informa a nota de um(a) aluno(a) de acordo com suas respostas. Ele pede a resposta desse(a) aluno(a) para cada questão e verifica se a resposta foi igual ao gabarito. Cada questão vale um ponto e existem as alternativas A, B, C ou D."
   ]
  },
  {
   "cell_type": "code",
   "execution_count": 7,
   "metadata": {},
   "outputs": [
    {
     "name": "stdout",
     "output_type": "stream",
     "text": [
      "Nota final: 10\n"
     ]
    }
   ],
   "source": [
    "respostas = []\n",
    "\n",
    "gabarito = ['D', 'A', 'C', 'B', 'A', 'D', 'C', 'C', 'A', 'B']\n",
    "\n",
    "nota = 0 \n",
    "\n",
    "for i in range (10):\n",
    "    respostas.append(input(f'Insira a resposta da questão {i+1}: '))\n",
    "\n",
    "for i in range (10):\n",
    "    if respostas[i] == gabarito[i]:\n",
    "        nota += 1\n",
    "\n",
    "print(f'Nota final: {nota}') \n"
   ]
  },
  {
   "cell_type": "markdown",
   "metadata": {},
   "source": [
    "6° Projeto - Um instituto de meteorologia deseja fazer um estudo de temperatura média de cada mês do ano. Para isso, o programa a seguir coleta e armazena essas temperaturas médias em uma lista. Depois, calcula a média anual das temperaturas e mostra todas as temperaturas acima da média anual e em que mês elas ocorreram"
   ]
  },
  {
   "cell_type": "code",
   "execution_count": 12,
   "metadata": {},
   "outputs": [
    {
     "name": "stdout",
     "output_type": "stream",
     "text": [
      "Temperaturas acima da média em:\n",
      "Abril\n",
      "Maio\n",
      "Junho\n",
      "Julho\n",
      "Outubro\n",
      "Dezembro\n"
     ]
    }
   ],
   "source": [
    "temperatura_mensais = []\n",
    "\n",
    "for i in range(12):\n",
    "    temperatura_mensais.append(float(input(f'Digite a média de temperatura do mês {i+1}: ')))\n",
    "\n",
    "meses = ['Janeiro', 'Fevereiro', 'Março', 'Abril', 'Maio', 'Junho', 'Julho', 'Agosto', 'Setembro', 'Outubro', 'Novembro', 'Dezembro']\n",
    "\n",
    "media_anual = sum(temperatura_mensais) / 12\n",
    "\n",
    "print('Temperaturas acima da média em:')\n",
    "for i in range(12):\n",
    "    if temperatura_mensais[i] > media_anual:\n",
    "        print(meses[i])\n",
    "\n",
    "\n",
    "\n",
    "\n",
    "\n",
    "\n"
   ]
  },
  {
   "cell_type": "markdown",
   "metadata": {},
   "source": [
    "7° Projeto - Uma empresa de e-commerce está interessada em analisar as vendas dos seus produtos. Os dados das vendas foram armazenados em um dicionário, logo após o programa calcula o total de vendas e o produto mais vendido. "
   ]
  },
  {
   "cell_type": "code",
   "execution_count": 13,
   "metadata": {},
   "outputs": [
    {
     "name": "stdout",
     "output_type": "stream",
     "text": [
      "total de vendas é 920\n",
      "Produto A é o mais vendido\n"
     ]
    }
   ],
   "source": [
    "dados_vendas = {'Produto A': 300, 'Produto B': 80, 'Produto C': 60, 'Produto D': 200, 'Produto E': 250, 'Produto F': 30}\n",
    "\n",
    "total_vendas = 0\n",
    "produto_mais_vendido = ''\n",
    "unidades_produto_mais_vendido = 0 \n",
    "\n",
    "for produto in dados_vendas.keys():\n",
    "    total_vendas += dados_vendas[produto]\n",
    "    if dados_vendas[produto] > unidades_produto_mais_vendido:\n",
    "        unidades_produto_mais_vendido = dados_vendas[produto]\n",
    "        produto_mais_vendido = produto\n",
    "\n",
    "print(f'total de vendas é {total_vendas}')\n",
    "print(f'{produto_mais_vendido} é o mais vendido')        \n",
    "\n"
   ]
  }
 ],
 "metadata": {
  "kernelspec": {
   "display_name": "Python 3",
   "language": "python",
   "name": "python3"
  },
  "language_info": {
   "codemirror_mode": {
    "name": "ipython",
    "version": 3
   },
   "file_extension": ".py",
   "mimetype": "text/x-python",
   "name": "python",
   "nbconvert_exporter": "python",
   "pygments_lexer": "ipython3",
   "version": "3.12.4"
  }
 },
 "nbformat": 4,
 "nbformat_minor": 2
}
